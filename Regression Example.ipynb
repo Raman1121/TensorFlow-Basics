{
 "cells": [
  {
   "cell_type": "markdown",
   "metadata": {},
   "source": [
    "## Regression Exercise"
   ]
  },
  {
   "cell_type": "code",
   "execution_count": 1,
   "metadata": {
    "collapsed": true
   },
   "outputs": [],
   "source": [
    "import pandas as pd\n",
    "import tensorflow as tf\n",
    "import numpy as np\n",
    "import matplotlib.pyplot as plt\n",
    "% matplotlib inline"
   ]
  },
  {
   "cell_type": "code",
   "execution_count": 4,
   "metadata": {},
   "outputs": [],
   "source": [
    "housing = pd.read_csv('cal_housing_clean.csv')"
   ]
  },
  {
   "cell_type": "code",
   "execution_count": 5,
   "metadata": {},
   "outputs": [
    {
     "data": {
      "text/html": [
       "<div>\n",
       "<style>\n",
       "    .dataframe thead tr:only-child th {\n",
       "        text-align: right;\n",
       "    }\n",
       "\n",
       "    .dataframe thead th {\n",
       "        text-align: left;\n",
       "    }\n",
       "\n",
       "    .dataframe tbody tr th {\n",
       "        vertical-align: top;\n",
       "    }\n",
       "</style>\n",
       "<table border=\"1\" class=\"dataframe\">\n",
       "  <thead>\n",
       "    <tr style=\"text-align: right;\">\n",
       "      <th></th>\n",
       "      <th>housingMedianAge</th>\n",
       "      <th>totalRooms</th>\n",
       "      <th>totalBedrooms</th>\n",
       "      <th>population</th>\n",
       "      <th>households</th>\n",
       "      <th>medianIncome</th>\n",
       "      <th>medianHouseValue</th>\n",
       "    </tr>\n",
       "  </thead>\n",
       "  <tbody>\n",
       "    <tr>\n",
       "      <th>0</th>\n",
       "      <td>41.0</td>\n",
       "      <td>880.0</td>\n",
       "      <td>129.0</td>\n",
       "      <td>322.0</td>\n",
       "      <td>126.0</td>\n",
       "      <td>8.3252</td>\n",
       "      <td>452600.0</td>\n",
       "    </tr>\n",
       "    <tr>\n",
       "      <th>1</th>\n",
       "      <td>21.0</td>\n",
       "      <td>7099.0</td>\n",
       "      <td>1106.0</td>\n",
       "      <td>2401.0</td>\n",
       "      <td>1138.0</td>\n",
       "      <td>8.3014</td>\n",
       "      <td>358500.0</td>\n",
       "    </tr>\n",
       "    <tr>\n",
       "      <th>2</th>\n",
       "      <td>52.0</td>\n",
       "      <td>1467.0</td>\n",
       "      <td>190.0</td>\n",
       "      <td>496.0</td>\n",
       "      <td>177.0</td>\n",
       "      <td>7.2574</td>\n",
       "      <td>352100.0</td>\n",
       "    </tr>\n",
       "    <tr>\n",
       "      <th>3</th>\n",
       "      <td>52.0</td>\n",
       "      <td>1274.0</td>\n",
       "      <td>235.0</td>\n",
       "      <td>558.0</td>\n",
       "      <td>219.0</td>\n",
       "      <td>5.6431</td>\n",
       "      <td>341300.0</td>\n",
       "    </tr>\n",
       "    <tr>\n",
       "      <th>4</th>\n",
       "      <td>52.0</td>\n",
       "      <td>1627.0</td>\n",
       "      <td>280.0</td>\n",
       "      <td>565.0</td>\n",
       "      <td>259.0</td>\n",
       "      <td>3.8462</td>\n",
       "      <td>342200.0</td>\n",
       "    </tr>\n",
       "  </tbody>\n",
       "</table>\n",
       "</div>"
      ],
      "text/plain": [
       "   housingMedianAge  totalRooms  totalBedrooms  population  households  \\\n",
       "0              41.0       880.0          129.0       322.0       126.0   \n",
       "1              21.0      7099.0         1106.0      2401.0      1138.0   \n",
       "2              52.0      1467.0          190.0       496.0       177.0   \n",
       "3              52.0      1274.0          235.0       558.0       219.0   \n",
       "4              52.0      1627.0          280.0       565.0       259.0   \n",
       "\n",
       "   medianIncome  medianHouseValue  \n",
       "0        8.3252          452600.0  \n",
       "1        8.3014          358500.0  \n",
       "2        7.2574          352100.0  \n",
       "3        5.6431          341300.0  \n",
       "4        3.8462          342200.0  "
      ]
     },
     "execution_count": 5,
     "metadata": {},
     "output_type": "execute_result"
    }
   ],
   "source": [
    "housing.head()"
   ]
  },
  {
   "cell_type": "code",
   "execution_count": 9,
   "metadata": {
    "collapsed": true
   },
   "outputs": [],
   "source": [
    "y_val = housing['medianHouseValue']     #The value we are trying to predict"
   ]
  },
  {
   "cell_type": "code",
   "execution_count": 10,
   "metadata": {},
   "outputs": [
    {
     "data": {
      "text/plain": [
       "0    452600.0\n",
       "1    358500.0\n",
       "2    352100.0\n",
       "3    341300.0\n",
       "4    342200.0\n",
       "Name: medianHouseValue, dtype: float64"
      ]
     },
     "execution_count": 10,
     "metadata": {},
     "output_type": "execute_result"
    }
   ],
   "source": [
    "y_val.head()     "
   ]
  },
  {
   "cell_type": "code",
   "execution_count": 15,
   "metadata": {},
   "outputs": [],
   "source": [
    "x_data = housing.drop(['medianHouseValue'],axis=1)     #Everything except the value we want to predict"
   ]
  },
  {
   "cell_type": "code",
   "execution_count": 16,
   "metadata": {
    "collapsed": true
   },
   "outputs": [],
   "source": [
    "from sklearn.model_selection import train_test_split"
   ]
  },
  {
   "cell_type": "code",
   "execution_count": 17,
   "metadata": {
    "collapsed": true
   },
   "outputs": [],
   "source": [
    "x_train, x_test, y_train, y_test = train_test_split(x_data, y_val, test_size = 0.3, random_state = 101)"
   ]
  },
  {
   "cell_type": "markdown",
   "metadata": {},
   "source": [
    "## Scale the data\n"
   ]
  },
  {
   "cell_type": "code",
   "execution_count": 19,
   "metadata": {
    "collapsed": true
   },
   "outputs": [],
   "source": [
    "from sklearn.preprocessing import MinMaxScaler"
   ]
  },
  {
   "cell_type": "code",
   "execution_count": 30,
   "metadata": {
    "collapsed": true
   },
   "outputs": [],
   "source": [
    "scaler = MinMaxScaler()"
   ]
  },
  {
   "cell_type": "code",
   "execution_count": 24,
   "metadata": {},
   "outputs": [
    {
     "data": {
      "text/plain": [
       "MinMaxScaler(copy=True, feature_range=(0, 1))"
      ]
     },
     "execution_count": 24,
     "metadata": {},
     "output_type": "execute_result"
    }
   ],
   "source": [
    "scaler.fit(x_train)"
   ]
  },
  {
   "cell_type": "code",
   "execution_count": 27,
   "metadata": {},
   "outputs": [],
   "source": [
    "x_train = pd.DataFrame(data=scaler.transform(x_train),columns = x_train.columns,index=x_train.index)"
   ]
  },
  {
   "cell_type": "code",
   "execution_count": 28,
   "metadata": {
    "collapsed": true
   },
   "outputs": [],
   "source": [
    "x_test = pd.DataFrame(data=scaler.transform(x_test),columns = x_test.columns,index=x_test.index)"
   ]
  },
  {
   "cell_type": "markdown",
   "metadata": {},
   "source": [
    "## Create the feature columns"
   ]
  },
  {
   "cell_type": "code",
   "execution_count": 32,
   "metadata": {},
   "outputs": [
    {
     "data": {
      "text/html": [
       "<div>\n",
       "<style>\n",
       "    .dataframe thead tr:only-child th {\n",
       "        text-align: right;\n",
       "    }\n",
       "\n",
       "    .dataframe thead th {\n",
       "        text-align: left;\n",
       "    }\n",
       "\n",
       "    .dataframe tbody tr th {\n",
       "        vertical-align: top;\n",
       "    }\n",
       "</style>\n",
       "<table border=\"1\" class=\"dataframe\">\n",
       "  <thead>\n",
       "    <tr style=\"text-align: right;\">\n",
       "      <th></th>\n",
       "      <th>housingMedianAge</th>\n",
       "      <th>totalRooms</th>\n",
       "      <th>totalBedrooms</th>\n",
       "      <th>population</th>\n",
       "      <th>households</th>\n",
       "      <th>medianIncome</th>\n",
       "      <th>medianHouseValue</th>\n",
       "    </tr>\n",
       "  </thead>\n",
       "  <tbody>\n",
       "    <tr>\n",
       "      <th>0</th>\n",
       "      <td>41.0</td>\n",
       "      <td>880.0</td>\n",
       "      <td>129.0</td>\n",
       "      <td>322.0</td>\n",
       "      <td>126.0</td>\n",
       "      <td>8.3252</td>\n",
       "      <td>452600.0</td>\n",
       "    </tr>\n",
       "    <tr>\n",
       "      <th>1</th>\n",
       "      <td>21.0</td>\n",
       "      <td>7099.0</td>\n",
       "      <td>1106.0</td>\n",
       "      <td>2401.0</td>\n",
       "      <td>1138.0</td>\n",
       "      <td>8.3014</td>\n",
       "      <td>358500.0</td>\n",
       "    </tr>\n",
       "    <tr>\n",
       "      <th>2</th>\n",
       "      <td>52.0</td>\n",
       "      <td>1467.0</td>\n",
       "      <td>190.0</td>\n",
       "      <td>496.0</td>\n",
       "      <td>177.0</td>\n",
       "      <td>7.2574</td>\n",
       "      <td>352100.0</td>\n",
       "    </tr>\n",
       "    <tr>\n",
       "      <th>3</th>\n",
       "      <td>52.0</td>\n",
       "      <td>1274.0</td>\n",
       "      <td>235.0</td>\n",
       "      <td>558.0</td>\n",
       "      <td>219.0</td>\n",
       "      <td>5.6431</td>\n",
       "      <td>341300.0</td>\n",
       "    </tr>\n",
       "    <tr>\n",
       "      <th>4</th>\n",
       "      <td>52.0</td>\n",
       "      <td>1627.0</td>\n",
       "      <td>280.0</td>\n",
       "      <td>565.0</td>\n",
       "      <td>259.0</td>\n",
       "      <td>3.8462</td>\n",
       "      <td>342200.0</td>\n",
       "    </tr>\n",
       "  </tbody>\n",
       "</table>\n",
       "</div>"
      ],
      "text/plain": [
       "   housingMedianAge  totalRooms  totalBedrooms  population  households  \\\n",
       "0              41.0       880.0          129.0       322.0       126.0   \n",
       "1              21.0      7099.0         1106.0      2401.0      1138.0   \n",
       "2              52.0      1467.0          190.0       496.0       177.0   \n",
       "3              52.0      1274.0          235.0       558.0       219.0   \n",
       "4              52.0      1627.0          280.0       565.0       259.0   \n",
       "\n",
       "   medianIncome  medianHouseValue  \n",
       "0        8.3252          452600.0  \n",
       "1        8.3014          358500.0  \n",
       "2        7.2574          352100.0  \n",
       "3        5.6431          341300.0  \n",
       "4        3.8462          342200.0  "
      ]
     },
     "execution_count": 32,
     "metadata": {},
     "output_type": "execute_result"
    }
   ],
   "source": [
    "housing.head()"
   ]
  },
  {
   "cell_type": "code",
   "execution_count": 46,
   "metadata": {
    "collapsed": true
   },
   "outputs": [],
   "source": [
    "feat_cols = [ age,rooms,bedrooms,pop,households,income]"
   ]
  },
  {
   "cell_type": "code",
   "execution_count": 45,
   "metadata": {
    "collapsed": true
   },
   "outputs": [],
   "source": [
    "age = tf.feature_column.numeric_column('housingMedianAge')\n",
    "rooms = tf.feature_column.numeric_column('totalRooms')\n",
    "bedrooms = tf.feature_column.numeric_column('totalBedrooms')\n",
    "pop = tf.feature_column.numeric_column('population')\n",
    "households = tf.feature_column.numeric_column('households')\n",
    "income = tf.feature_column.numeric_column('medianIncome')"
   ]
  },
  {
   "cell_type": "markdown",
   "metadata": {},
   "source": [
    "## Create the input function for the estimator object"
   ]
  },
  {
   "cell_type": "code",
   "execution_count": 39,
   "metadata": {},
   "outputs": [],
   "source": [
    "input_func = tf.estimator.inputs.pandas_input_fn(x=X_train,y=y_train ,batch_size=10,num_epochs=1000,\n",
    "                                            shuffle=True)"
   ]
  },
  {
   "cell_type": "code",
   "execution_count": 49,
   "metadata": {},
   "outputs": [
    {
     "name": "stdout",
     "output_type": "stream",
     "text": [
      "INFO:tensorflow:Using default config.\n",
      "WARNING:tensorflow:Using temporary folder as model directory: /tmp/tmpx1xjkxsy\n",
      "INFO:tensorflow:Using config: {'_model_dir': '/tmp/tmpx1xjkxsy', '_tf_random_seed': 1, '_save_summary_steps': 100, '_save_checkpoints_secs': 600, '_save_checkpoints_steps': None, '_session_config': None, '_keep_checkpoint_max': 5, '_keep_checkpoint_every_n_hours': 10000, '_log_step_count_steps': 100}\n"
     ]
    }
   ],
   "source": [
    "model = tf.estimator.DNNRegressor(hidden_units=[6,6,6],feature_columns=feat_cols)"
   ]
  },
  {
   "cell_type": "code",
   "execution_count": 71,
   "metadata": {},
   "outputs": [
    {
     "name": "stdout",
     "output_type": "stream",
     "text": [
      "INFO:tensorflow:Create CheckpointSaverHook.\n",
      "INFO:tensorflow:Restoring parameters from /tmp/tmpx1xjkxsy/model.ckpt-4000\n",
      "INFO:tensorflow:Saving checkpoints for 4001 into /tmp/tmpx1xjkxsy/model.ckpt.\n",
      "INFO:tensorflow:loss = 1.4847e+11, step = 4001\n",
      "INFO:tensorflow:global_step/sec: 550.354\n",
      "INFO:tensorflow:loss = 1.22563e+11, step = 4101 (0.185 sec)\n",
      "INFO:tensorflow:global_step/sec: 557.99\n",
      "INFO:tensorflow:loss = 8.13395e+10, step = 4201 (0.178 sec)\n",
      "INFO:tensorflow:global_step/sec: 653.569\n",
      "INFO:tensorflow:loss = 7.82902e+10, step = 4301 (0.153 sec)\n",
      "INFO:tensorflow:global_step/sec: 568.89\n",
      "INFO:tensorflow:loss = 4.93654e+10, step = 4401 (0.176 sec)\n",
      "INFO:tensorflow:global_step/sec: 571.062\n",
      "INFO:tensorflow:loss = 6.58376e+10, step = 4501 (0.175 sec)\n",
      "INFO:tensorflow:global_step/sec: 568.429\n",
      "INFO:tensorflow:loss = 2.2202e+11, step = 4601 (0.176 sec)\n",
      "INFO:tensorflow:global_step/sec: 535.264\n",
      "INFO:tensorflow:loss = 5.16961e+10, step = 4701 (0.187 sec)\n",
      "INFO:tensorflow:global_step/sec: 334.335\n",
      "INFO:tensorflow:loss = 4.53665e+10, step = 4801 (0.299 sec)\n",
      "INFO:tensorflow:global_step/sec: 620.188\n",
      "INFO:tensorflow:loss = 1.73454e+11, step = 4901 (0.162 sec)\n",
      "INFO:tensorflow:global_step/sec: 584.768\n",
      "INFO:tensorflow:loss = 6.71988e+10, step = 5001 (0.170 sec)\n",
      "INFO:tensorflow:global_step/sec: 587.779\n",
      "INFO:tensorflow:loss = 5.6427e+10, step = 5101 (0.170 sec)\n",
      "INFO:tensorflow:global_step/sec: 590.063\n",
      "INFO:tensorflow:loss = 6.35036e+10, step = 5201 (0.169 sec)\n",
      "INFO:tensorflow:global_step/sec: 534.891\n",
      "INFO:tensorflow:loss = 2.28932e+11, step = 5301 (0.187 sec)\n",
      "INFO:tensorflow:global_step/sec: 549.18\n",
      "INFO:tensorflow:loss = 1.40909e+11, step = 5401 (0.182 sec)\n",
      "INFO:tensorflow:global_step/sec: 613.532\n",
      "INFO:tensorflow:loss = 1.44147e+11, step = 5501 (0.163 sec)\n",
      "INFO:tensorflow:global_step/sec: 579.652\n",
      "INFO:tensorflow:loss = 7.46593e+10, step = 5601 (0.174 sec)\n",
      "INFO:tensorflow:global_step/sec: 569.799\n",
      "INFO:tensorflow:loss = 1.33434e+11, step = 5701 (0.178 sec)\n",
      "INFO:tensorflow:global_step/sec: 595.323\n",
      "INFO:tensorflow:loss = 1.1454e+11, step = 5801 (0.166 sec)\n",
      "INFO:tensorflow:global_step/sec: 588.361\n",
      "INFO:tensorflow:loss = 1.94787e+11, step = 5901 (0.169 sec)\n",
      "INFO:tensorflow:global_step/sec: 552.825\n",
      "INFO:tensorflow:loss = 4.751e+10, step = 6001 (0.181 sec)\n",
      "INFO:tensorflow:global_step/sec: 554.071\n",
      "INFO:tensorflow:loss = 7.73576e+10, step = 6101 (0.180 sec)\n",
      "INFO:tensorflow:global_step/sec: 326.578\n",
      "INFO:tensorflow:loss = 8.185e+10, step = 6201 (0.318 sec)\n",
      "INFO:tensorflow:global_step/sec: 313.05\n",
      "INFO:tensorflow:loss = 9.96628e+10, step = 6301 (0.310 sec)\n",
      "INFO:tensorflow:global_step/sec: 568.272\n",
      "INFO:tensorflow:loss = 8.10431e+10, step = 6401 (0.174 sec)\n",
      "INFO:tensorflow:global_step/sec: 555.847\n",
      "INFO:tensorflow:loss = 1.16302e+11, step = 6501 (0.180 sec)\n",
      "INFO:tensorflow:global_step/sec: 554.639\n",
      "INFO:tensorflow:loss = 9.54128e+10, step = 6601 (0.180 sec)\n",
      "INFO:tensorflow:global_step/sec: 605.595\n",
      "INFO:tensorflow:loss = 2.74845e+10, step = 6701 (0.165 sec)\n",
      "INFO:tensorflow:global_step/sec: 585.533\n",
      "INFO:tensorflow:loss = 9.2059e+10, step = 6801 (0.171 sec)\n",
      "INFO:tensorflow:global_step/sec: 562.457\n",
      "INFO:tensorflow:loss = 1.19691e+11, step = 6901 (0.178 sec)\n",
      "INFO:tensorflow:global_step/sec: 597.579\n",
      "INFO:tensorflow:loss = 6.01033e+10, step = 7001 (0.167 sec)\n",
      "INFO:tensorflow:global_step/sec: 587.489\n",
      "INFO:tensorflow:loss = 6.74186e+10, step = 7101 (0.170 sec)\n",
      "INFO:tensorflow:global_step/sec: 586.463\n",
      "INFO:tensorflow:loss = 5.96585e+10, step = 7201 (0.171 sec)\n",
      "INFO:tensorflow:global_step/sec: 467.679\n",
      "INFO:tensorflow:loss = 1.78127e+11, step = 7301 (0.216 sec)\n",
      "INFO:tensorflow:global_step/sec: 310.335\n",
      "INFO:tensorflow:loss = 1.71763e+11, step = 7401 (0.319 sec)\n",
      "INFO:tensorflow:global_step/sec: 422.496\n",
      "INFO:tensorflow:loss = 2.1179e+11, step = 7501 (0.238 sec)\n",
      "INFO:tensorflow:global_step/sec: 616.054\n",
      "INFO:tensorflow:loss = 2.95902e+10, step = 7601 (0.162 sec)\n",
      "INFO:tensorflow:global_step/sec: 591.243\n",
      "INFO:tensorflow:loss = 2.97392e+10, step = 7701 (0.169 sec)\n",
      "INFO:tensorflow:global_step/sec: 622.036\n",
      "INFO:tensorflow:loss = 1.00075e+11, step = 7801 (0.162 sec)\n",
      "INFO:tensorflow:global_step/sec: 575.27\n",
      "INFO:tensorflow:loss = 9.82168e+10, step = 7901 (0.175 sec)\n",
      "INFO:tensorflow:global_step/sec: 530.767\n",
      "INFO:tensorflow:loss = 9.3879e+10, step = 8001 (0.186 sec)\n",
      "INFO:tensorflow:global_step/sec: 563.44\n",
      "INFO:tensorflow:loss = 1.19554e+11, step = 8101 (0.179 sec)\n",
      "INFO:tensorflow:global_step/sec: 578.926\n",
      "INFO:tensorflow:loss = 9.32059e+10, step = 8201 (0.172 sec)\n",
      "INFO:tensorflow:global_step/sec: 585.569\n",
      "INFO:tensorflow:loss = 9.46332e+10, step = 8301 (0.171 sec)\n",
      "INFO:tensorflow:global_step/sec: 599.922\n",
      "INFO:tensorflow:loss = 1.46771e+11, step = 8401 (0.169 sec)\n",
      "INFO:tensorflow:global_step/sec: 515.777\n",
      "INFO:tensorflow:loss = 1.47736e+11, step = 8501 (0.195 sec)\n",
      "INFO:tensorflow:global_step/sec: 313.91\n",
      "INFO:tensorflow:loss = 6.33832e+10, step = 8601 (0.316 sec)\n",
      "INFO:tensorflow:global_step/sec: 325.473\n",
      "INFO:tensorflow:loss = 1.73315e+11, step = 8701 (0.310 sec)\n",
      "INFO:tensorflow:global_step/sec: 391.971\n",
      "INFO:tensorflow:loss = 7.06323e+10, step = 8801 (0.252 sec)\n",
      "INFO:tensorflow:global_step/sec: 542.785\n",
      "INFO:tensorflow:loss = 4.12419e+10, step = 8901 (0.185 sec)\n",
      "INFO:tensorflow:global_step/sec: 523.859\n",
      "INFO:tensorflow:loss = 7.99764e+10, step = 9001 (0.190 sec)\n",
      "INFO:tensorflow:global_step/sec: 555.08\n",
      "INFO:tensorflow:loss = 1.96389e+11, step = 9101 (0.181 sec)\n",
      "INFO:tensorflow:global_step/sec: 536.439\n",
      "INFO:tensorflow:loss = 9.49119e+10, step = 9201 (0.187 sec)\n",
      "INFO:tensorflow:global_step/sec: 587.906\n",
      "INFO:tensorflow:loss = 1.10822e+11, step = 9301 (0.170 sec)\n",
      "INFO:tensorflow:global_step/sec: 612.779\n",
      "INFO:tensorflow:loss = 3.6114e+10, step = 9401 (0.163 sec)\n",
      "INFO:tensorflow:global_step/sec: 581.73\n",
      "INFO:tensorflow:loss = 1.24753e+11, step = 9501 (0.172 sec)\n",
      "INFO:tensorflow:global_step/sec: 430.238\n",
      "INFO:tensorflow:loss = 7.06902e+10, step = 9601 (0.231 sec)\n",
      "INFO:tensorflow:global_step/sec: 351.983\n",
      "INFO:tensorflow:loss = 1.01213e+11, step = 9701 (0.288 sec)\n",
      "INFO:tensorflow:global_step/sec: 537.529\n",
      "INFO:tensorflow:loss = 1.69488e+11, step = 9801 (0.187 sec)\n",
      "INFO:tensorflow:global_step/sec: 612.093\n",
      "INFO:tensorflow:loss = 3.94696e+10, step = 9901 (0.160 sec)\n",
      "INFO:tensorflow:global_step/sec: 519.756\n",
      "INFO:tensorflow:loss = 4.53081e+10, step = 10001 (0.192 sec)\n",
      "INFO:tensorflow:global_step/sec: 547.003\n",
      "INFO:tensorflow:loss = 1.14843e+11, step = 10101 (0.185 sec)\n",
      "INFO:tensorflow:global_step/sec: 527.86\n",
      "INFO:tensorflow:loss = 5.16492e+10, step = 10201 (0.187 sec)\n",
      "INFO:tensorflow:global_step/sec: 414.582\n",
      "INFO:tensorflow:loss = 1.54183e+11, step = 10301 (0.245 sec)\n",
      "INFO:tensorflow:global_step/sec: 390.079\n",
      "INFO:tensorflow:loss = 1.04277e+11, step = 10401 (0.251 sec)\n",
      "INFO:tensorflow:global_step/sec: 559.373\n",
      "INFO:tensorflow:loss = 1.58033e+11, step = 10501 (0.181 sec)\n",
      "INFO:tensorflow:global_step/sec: 371.799\n",
      "INFO:tensorflow:loss = 8.3471e+10, step = 10601 (0.268 sec)\n",
      "INFO:tensorflow:global_step/sec: 566.431\n",
      "INFO:tensorflow:loss = 1.01747e+11, step = 10701 (0.181 sec)\n",
      "INFO:tensorflow:global_step/sec: 334.69\n",
      "INFO:tensorflow:loss = 5.16234e+10, step = 10801 (0.297 sec)\n",
      "INFO:tensorflow:global_step/sec: 287.717\n",
      "INFO:tensorflow:loss = 1.15928e+11, step = 10901 (0.350 sec)\n",
      "INFO:tensorflow:global_step/sec: 500.17\n",
      "INFO:tensorflow:loss = 3.87149e+10, step = 11001 (0.196 sec)\n",
      "INFO:tensorflow:global_step/sec: 590.385\n",
      "INFO:tensorflow:loss = 9.09384e+10, step = 11101 (0.173 sec)\n",
      "INFO:tensorflow:global_step/sec: 317.286\n",
      "INFO:tensorflow:loss = 8.8717e+10, step = 11201 (0.310 sec)\n",
      "INFO:tensorflow:global_step/sec: 526.184\n",
      "INFO:tensorflow:loss = 8.29773e+10, step = 11301 (0.193 sec)\n",
      "INFO:tensorflow:global_step/sec: 535.541\n",
      "INFO:tensorflow:loss = 4.30054e+10, step = 11401 (0.187 sec)\n",
      "INFO:tensorflow:global_step/sec: 537.689\n",
      "INFO:tensorflow:loss = 1.42279e+11, step = 11501 (0.187 sec)\n",
      "INFO:tensorflow:global_step/sec: 396.382\n",
      "INFO:tensorflow:loss = 4.58352e+10, step = 11601 (0.248 sec)\n",
      "INFO:tensorflow:global_step/sec: 343.954\n",
      "INFO:tensorflow:loss = 2.30537e+11, step = 11701 (0.296 sec)\n",
      "INFO:tensorflow:global_step/sec: 321.34\n",
      "INFO:tensorflow:loss = 1.41447e+11, step = 11801 (0.308 sec)\n",
      "INFO:tensorflow:global_step/sec: 340.623\n",
      "INFO:tensorflow:loss = 7.74097e+10, step = 11901 (0.293 sec)\n"
     ]
    },
    {
     "name": "stdout",
     "output_type": "stream",
     "text": [
      "INFO:tensorflow:global_step/sec: 546.936\n",
      "INFO:tensorflow:loss = 4.21205e+10, step = 12001 (0.183 sec)\n",
      "INFO:tensorflow:global_step/sec: 506.133\n",
      "INFO:tensorflow:loss = 3.72181e+10, step = 12101 (0.197 sec)\n",
      "INFO:tensorflow:global_step/sec: 358.756\n",
      "INFO:tensorflow:loss = 1.47563e+11, step = 12201 (0.281 sec)\n",
      "INFO:tensorflow:global_step/sec: 332.257\n",
      "INFO:tensorflow:loss = 5.8994e+10, step = 12301 (0.300 sec)\n",
      "INFO:tensorflow:global_step/sec: 429.334\n",
      "INFO:tensorflow:loss = 6.62571e+10, step = 12401 (0.233 sec)\n",
      "INFO:tensorflow:global_step/sec: 565.234\n",
      "INFO:tensorflow:loss = 9.3134e+10, step = 12501 (0.177 sec)\n",
      "INFO:tensorflow:global_step/sec: 540.21\n",
      "INFO:tensorflow:loss = 3.97521e+10, step = 12601 (0.185 sec)\n",
      "INFO:tensorflow:global_step/sec: 508.33\n",
      "INFO:tensorflow:loss = 1.1334e+11, step = 12701 (0.196 sec)\n",
      "INFO:tensorflow:global_step/sec: 324.446\n",
      "INFO:tensorflow:loss = 6.22081e+10, step = 12801 (0.309 sec)\n",
      "INFO:tensorflow:global_step/sec: 311.687\n",
      "INFO:tensorflow:loss = 1.19493e+11, step = 12901 (0.319 sec)\n",
      "INFO:tensorflow:global_step/sec: 378.863\n",
      "INFO:tensorflow:loss = 9.30207e+10, step = 13001 (0.264 sec)\n",
      "INFO:tensorflow:global_step/sec: 594.242\n",
      "INFO:tensorflow:loss = 5.44299e+10, step = 13101 (0.169 sec)\n",
      "INFO:tensorflow:global_step/sec: 551.03\n",
      "INFO:tensorflow:loss = 1.09449e+11, step = 13201 (0.182 sec)\n",
      "INFO:tensorflow:global_step/sec: 392.147\n",
      "INFO:tensorflow:loss = 4.72021e+10, step = 13301 (0.255 sec)\n",
      "INFO:tensorflow:global_step/sec: 353.648\n",
      "INFO:tensorflow:loss = 6.43091e+10, step = 13401 (0.283 sec)\n",
      "INFO:tensorflow:global_step/sec: 398.597\n",
      "INFO:tensorflow:loss = 5.38972e+10, step = 13501 (0.251 sec)\n",
      "INFO:tensorflow:global_step/sec: 590.781\n",
      "INFO:tensorflow:loss = 3.80394e+10, step = 13601 (0.170 sec)\n",
      "INFO:tensorflow:global_step/sec: 494.095\n",
      "INFO:tensorflow:loss = 1.10376e+11, step = 13701 (0.203 sec)\n",
      "INFO:tensorflow:global_step/sec: 340.395\n",
      "INFO:tensorflow:loss = 3.99405e+10, step = 13801 (0.300 sec)\n",
      "INFO:tensorflow:global_step/sec: 332.85\n",
      "INFO:tensorflow:loss = 2.28597e+10, step = 13901 (0.296 sec)\n",
      "INFO:tensorflow:global_step/sec: 435.803\n",
      "INFO:tensorflow:loss = 7.04331e+10, step = 14001 (0.229 sec)\n",
      "INFO:tensorflow:global_step/sec: 546.676\n",
      "INFO:tensorflow:loss = 1.51882e+11, step = 14101 (0.181 sec)\n",
      "INFO:tensorflow:global_step/sec: 452.298\n",
      "INFO:tensorflow:loss = 9.32171e+10, step = 14201 (0.223 sec)\n",
      "INFO:tensorflow:global_step/sec: 500.006\n",
      "INFO:tensorflow:loss = 2.84923e+10, step = 14301 (0.203 sec)\n",
      "INFO:tensorflow:global_step/sec: 332.264\n",
      "INFO:tensorflow:loss = 3.45488e+10, step = 14401 (0.296 sec)\n",
      "INFO:tensorflow:global_step/sec: 646.655\n",
      "INFO:tensorflow:loss = 9.26689e+10, step = 14501 (0.155 sec)\n",
      "INFO:tensorflow:global_step/sec: 507.856\n",
      "INFO:tensorflow:loss = 8.1983e+10, step = 14601 (0.201 sec)\n",
      "INFO:tensorflow:global_step/sec: 550.065\n",
      "INFO:tensorflow:loss = 8.77195e+10, step = 14701 (0.177 sec)\n",
      "INFO:tensorflow:global_step/sec: 345.634\n",
      "INFO:tensorflow:loss = 4.52022e+10, step = 14801 (0.296 sec)\n",
      "INFO:tensorflow:global_step/sec: 340.151\n",
      "INFO:tensorflow:loss = 7.52711e+10, step = 14901 (0.290 sec)\n",
      "INFO:tensorflow:global_step/sec: 533.153\n",
      "INFO:tensorflow:loss = 1.62856e+11, step = 15001 (0.186 sec)\n",
      "INFO:tensorflow:global_step/sec: 403.103\n",
      "INFO:tensorflow:loss = 1.8138e+11, step = 15101 (0.248 sec)\n",
      "INFO:tensorflow:global_step/sec: 312.819\n",
      "INFO:tensorflow:loss = 3.91688e+10, step = 15201 (0.322 sec)\n",
      "INFO:tensorflow:global_step/sec: 344.509\n",
      "INFO:tensorflow:loss = 1.4847e+11, step = 15301 (0.291 sec)\n",
      "INFO:tensorflow:global_step/sec: 354.133\n",
      "INFO:tensorflow:loss = 9.53817e+10, step = 15401 (0.282 sec)\n",
      "INFO:tensorflow:global_step/sec: 535.028\n",
      "INFO:tensorflow:loss = 1.67983e+11, step = 15501 (0.188 sec)\n",
      "INFO:tensorflow:global_step/sec: 565.769\n",
      "INFO:tensorflow:loss = 1.5565e+11, step = 15601 (0.177 sec)\n",
      "INFO:tensorflow:global_step/sec: 334.669\n",
      "INFO:tensorflow:loss = 1.17269e+11, step = 15701 (0.298 sec)\n",
      "INFO:tensorflow:global_step/sec: 363.195\n",
      "INFO:tensorflow:loss = 8.52188e+10, step = 15801 (0.275 sec)\n",
      "INFO:tensorflow:global_step/sec: 531.83\n",
      "INFO:tensorflow:loss = 8.29341e+10, step = 15901 (0.189 sec)\n",
      "INFO:tensorflow:global_step/sec: 576.551\n",
      "INFO:tensorflow:loss = 1.19977e+11, step = 16001 (0.170 sec)\n",
      "INFO:tensorflow:global_step/sec: 569.943\n",
      "INFO:tensorflow:loss = 1.22567e+11, step = 16101 (0.175 sec)\n",
      "INFO:tensorflow:global_step/sec: 604.604\n",
      "INFO:tensorflow:loss = 1.87774e+11, step = 16201 (0.169 sec)\n",
      "INFO:tensorflow:global_step/sec: 548.13\n",
      "INFO:tensorflow:loss = 1.8356e+11, step = 16301 (0.179 sec)\n",
      "INFO:tensorflow:global_step/sec: 614.118\n",
      "INFO:tensorflow:loss = 8.69404e+10, step = 16401 (0.164 sec)\n",
      "INFO:tensorflow:global_step/sec: 540.988\n",
      "INFO:tensorflow:loss = 5.0081e+10, step = 16501 (0.184 sec)\n",
      "INFO:tensorflow:global_step/sec: 469.365\n",
      "INFO:tensorflow:loss = 1.20179e+11, step = 16601 (0.212 sec)\n",
      "INFO:tensorflow:global_step/sec: 327\n",
      "INFO:tensorflow:loss = 1.66191e+11, step = 16701 (0.314 sec)\n",
      "INFO:tensorflow:global_step/sec: 328.165\n",
      "INFO:tensorflow:loss = 1.15539e+11, step = 16801 (0.300 sec)\n",
      "INFO:tensorflow:global_step/sec: 364.081\n",
      "INFO:tensorflow:loss = 1.39189e+11, step = 16901 (0.274 sec)\n",
      "INFO:tensorflow:global_step/sec: 570.109\n",
      "INFO:tensorflow:loss = 7.29567e+10, step = 17001 (0.174 sec)\n",
      "INFO:tensorflow:global_step/sec: 519.093\n",
      "INFO:tensorflow:loss = 7.51003e+10, step = 17101 (0.195 sec)\n",
      "INFO:tensorflow:global_step/sec: 573.134\n",
      "INFO:tensorflow:loss = 4.0537e+10, step = 17201 (0.172 sec)\n",
      "INFO:tensorflow:global_step/sec: 632.671\n",
      "INFO:tensorflow:loss = 7.51245e+10, step = 17301 (0.158 sec)\n",
      "INFO:tensorflow:global_step/sec: 575.192\n",
      "INFO:tensorflow:loss = 9.79955e+10, step = 17401 (0.175 sec)\n",
      "INFO:tensorflow:global_step/sec: 606.882\n",
      "INFO:tensorflow:loss = 7.88517e+10, step = 17501 (0.163 sec)\n",
      "INFO:tensorflow:global_step/sec: 570.625\n",
      "INFO:tensorflow:loss = 5.56351e+10, step = 17601 (0.176 sec)\n",
      "INFO:tensorflow:global_step/sec: 617.549\n",
      "INFO:tensorflow:loss = 4.15446e+10, step = 17701 (0.162 sec)\n",
      "INFO:tensorflow:global_step/sec: 344.109\n",
      "INFO:tensorflow:loss = 1.36648e+11, step = 17801 (0.297 sec)\n",
      "INFO:tensorflow:global_step/sec: 312.753\n",
      "INFO:tensorflow:loss = 6.24891e+10, step = 17901 (0.312 sec)\n",
      "INFO:tensorflow:global_step/sec: 273.718\n",
      "INFO:tensorflow:loss = 1.16453e+11, step = 18001 (0.366 sec)\n",
      "INFO:tensorflow:global_step/sec: 366.012\n",
      "INFO:tensorflow:loss = 5.02511e+10, step = 18101 (0.275 sec)\n",
      "INFO:tensorflow:global_step/sec: 292.695\n",
      "INFO:tensorflow:loss = 5.1372e+10, step = 18201 (0.349 sec)\n",
      "INFO:tensorflow:global_step/sec: 485.283\n",
      "INFO:tensorflow:loss = 1.1582e+11, step = 18301 (0.197 sec)\n",
      "INFO:tensorflow:global_step/sec: 513.744\n",
      "INFO:tensorflow:loss = 1.38028e+11, step = 18401 (0.197 sec)\n",
      "INFO:tensorflow:global_step/sec: 527.635\n",
      "INFO:tensorflow:loss = 1.04183e+11, step = 18501 (0.186 sec)\n",
      "INFO:tensorflow:global_step/sec: 547.002\n",
      "INFO:tensorflow:loss = 1.35057e+11, step = 18601 (0.183 sec)\n",
      "INFO:tensorflow:global_step/sec: 546.528\n",
      "INFO:tensorflow:loss = 7.13538e+10, step = 18701 (0.183 sec)\n",
      "INFO:tensorflow:global_step/sec: 586.344\n",
      "INFO:tensorflow:loss = 1.5465e+11, step = 18801 (0.170 sec)\n",
      "INFO:tensorflow:global_step/sec: 589.29\n",
      "INFO:tensorflow:loss = 4.32118e+10, step = 18901 (0.170 sec)\n",
      "INFO:tensorflow:global_step/sec: 585.769\n",
      "INFO:tensorflow:loss = 1.17385e+11, step = 19001 (0.170 sec)\n",
      "INFO:tensorflow:global_step/sec: 542.268\n",
      "INFO:tensorflow:loss = 4.64924e+10, step = 19101 (0.187 sec)\n",
      "INFO:tensorflow:global_step/sec: 554.727\n",
      "INFO:tensorflow:loss = 6.98105e+10, step = 19201 (0.180 sec)\n",
      "INFO:tensorflow:global_step/sec: 506.99\n",
      "INFO:tensorflow:loss = 1.10842e+11, step = 19301 (0.194 sec)\n",
      "INFO:tensorflow:global_step/sec: 563.213\n",
      "INFO:tensorflow:loss = 5.161e+10, step = 19401 (0.179 sec)\n",
      "INFO:tensorflow:global_step/sec: 390.26\n",
      "INFO:tensorflow:loss = 5.39832e+10, step = 19501 (0.265 sec)\n",
      "INFO:tensorflow:global_step/sec: 328.043\n",
      "INFO:tensorflow:loss = 1.21281e+11, step = 19601 (0.299 sec)\n",
      "INFO:tensorflow:global_step/sec: 563.663\n",
      "INFO:tensorflow:loss = 1.54142e+11, step = 19701 (0.174 sec)\n",
      "INFO:tensorflow:global_step/sec: 561.088\n",
      "INFO:tensorflow:loss = 4.71481e+10, step = 19801 (0.179 sec)\n",
      "INFO:tensorflow:global_step/sec: 550.152\n",
      "INFO:tensorflow:loss = 1.64534e+11, step = 19901 (0.181 sec)\n",
      "INFO:tensorflow:global_step/sec: 539.764\n",
      "INFO:tensorflow:loss = 8.79099e+10, step = 20001 (0.184 sec)\n"
     ]
    },
    {
     "name": "stdout",
     "output_type": "stream",
     "text": [
      "INFO:tensorflow:global_step/sec: 605.395\n",
      "INFO:tensorflow:loss = 6.45691e+10, step = 20101 (0.166 sec)\n",
      "INFO:tensorflow:global_step/sec: 386.583\n",
      "INFO:tensorflow:loss = 5.34614e+10, step = 20201 (0.260 sec)\n",
      "INFO:tensorflow:global_step/sec: 404.032\n",
      "INFO:tensorflow:loss = 1.19518e+11, step = 20301 (0.249 sec)\n",
      "INFO:tensorflow:global_step/sec: 537.958\n",
      "INFO:tensorflow:loss = 5.06314e+10, step = 20401 (0.189 sec)\n",
      "INFO:tensorflow:global_step/sec: 559.819\n",
      "INFO:tensorflow:loss = 5.26653e+10, step = 20501 (0.173 sec)\n",
      "INFO:tensorflow:global_step/sec: 653.805\n",
      "INFO:tensorflow:loss = 6.45699e+10, step = 20601 (0.153 sec)\n",
      "INFO:tensorflow:global_step/sec: 468.835\n",
      "INFO:tensorflow:loss = 5.5755e+10, step = 20701 (0.214 sec)\n",
      "INFO:tensorflow:global_step/sec: 359.811\n",
      "INFO:tensorflow:loss = 8.3389e+10, step = 20801 (0.279 sec)\n",
      "INFO:tensorflow:global_step/sec: 502.403\n",
      "INFO:tensorflow:loss = 1.07155e+11, step = 20901 (0.197 sec)\n",
      "INFO:tensorflow:global_step/sec: 435.614\n",
      "INFO:tensorflow:loss = 3.95591e+10, step = 21001 (0.230 sec)\n",
      "INFO:tensorflow:global_step/sec: 527.778\n",
      "INFO:tensorflow:loss = 1.46948e+11, step = 21101 (0.190 sec)\n",
      "INFO:tensorflow:global_step/sec: 315.06\n",
      "INFO:tensorflow:loss = 1.11853e+11, step = 21201 (0.317 sec)\n",
      "INFO:tensorflow:global_step/sec: 468.363\n",
      "INFO:tensorflow:loss = 1.122e+11, step = 21301 (0.214 sec)\n",
      "INFO:tensorflow:global_step/sec: 540.858\n",
      "INFO:tensorflow:loss = 2.16526e+10, step = 21401 (0.185 sec)\n",
      "INFO:tensorflow:global_step/sec: 560.49\n",
      "INFO:tensorflow:loss = 1.77332e+10, step = 21501 (0.178 sec)\n",
      "INFO:tensorflow:global_step/sec: 472.844\n",
      "INFO:tensorflow:loss = 1.60258e+11, step = 21601 (0.213 sec)\n",
      "INFO:tensorflow:global_step/sec: 335.844\n",
      "INFO:tensorflow:loss = 9.2753e+10, step = 21701 (0.296 sec)\n",
      "INFO:tensorflow:global_step/sec: 338.212\n",
      "INFO:tensorflow:loss = 8.98292e+10, step = 21801 (0.297 sec)\n",
      "INFO:tensorflow:global_step/sec: 600.811\n",
      "INFO:tensorflow:loss = 1.82876e+11, step = 21901 (0.165 sec)\n",
      "INFO:tensorflow:global_step/sec: 607.838\n",
      "INFO:tensorflow:loss = 1.17843e+11, step = 22001 (0.168 sec)\n",
      "INFO:tensorflow:global_step/sec: 549.15\n",
      "INFO:tensorflow:loss = 6.85192e+10, step = 22101 (0.180 sec)\n",
      "INFO:tensorflow:global_step/sec: 579.225\n",
      "INFO:tensorflow:loss = 3.81134e+10, step = 22201 (0.172 sec)\n",
      "INFO:tensorflow:global_step/sec: 557.626\n",
      "INFO:tensorflow:loss = 7.40609e+10, step = 22301 (0.178 sec)\n",
      "INFO:tensorflow:global_step/sec: 340.343\n",
      "INFO:tensorflow:loss = 1.39852e+11, step = 22401 (0.300 sec)\n",
      "INFO:tensorflow:global_step/sec: 290.777\n",
      "INFO:tensorflow:loss = 9.76844e+10, step = 22501 (0.350 sec)\n",
      "INFO:tensorflow:global_step/sec: 354.893\n",
      "INFO:tensorflow:loss = 6.09711e+10, step = 22601 (0.273 sec)\n",
      "INFO:tensorflow:global_step/sec: 561.266\n",
      "INFO:tensorflow:loss = 1.84196e+11, step = 22701 (0.178 sec)\n",
      "INFO:tensorflow:global_step/sec: 336.502\n",
      "INFO:tensorflow:loss = 1.7443e+11, step = 22801 (0.295 sec)\n",
      "INFO:tensorflow:global_step/sec: 424.137\n",
      "INFO:tensorflow:loss = 1.72459e+11, step = 22901 (0.236 sec)\n",
      "INFO:tensorflow:global_step/sec: 570.73\n",
      "INFO:tensorflow:loss = 6.34063e+10, step = 23001 (0.175 sec)\n",
      "INFO:tensorflow:global_step/sec: 553.203\n",
      "INFO:tensorflow:loss = 6.18677e+10, step = 23101 (0.181 sec)\n",
      "INFO:tensorflow:global_step/sec: 342.118\n",
      "INFO:tensorflow:loss = 3.17536e+10, step = 23201 (0.293 sec)\n",
      "INFO:tensorflow:global_step/sec: 428.595\n",
      "INFO:tensorflow:loss = 1.46678e+11, step = 23301 (0.236 sec)\n",
      "INFO:tensorflow:global_step/sec: 513.485\n",
      "INFO:tensorflow:loss = 1.20933e+11, step = 23401 (0.191 sec)\n",
      "INFO:tensorflow:global_step/sec: 572.979\n",
      "INFO:tensorflow:loss = 1.33184e+11, step = 23501 (0.175 sec)\n",
      "INFO:tensorflow:global_step/sec: 539.428\n",
      "INFO:tensorflow:loss = 1.79242e+10, step = 23601 (0.185 sec)\n",
      "INFO:tensorflow:global_step/sec: 352.974\n",
      "INFO:tensorflow:loss = 5.92448e+10, step = 23701 (0.286 sec)\n",
      "INFO:tensorflow:global_step/sec: 572.433\n",
      "INFO:tensorflow:loss = 8.89692e+10, step = 23801 (0.173 sec)\n",
      "INFO:tensorflow:global_step/sec: 599.059\n",
      "INFO:tensorflow:loss = 1.00298e+11, step = 23901 (0.166 sec)\n",
      "INFO:tensorflow:Saving checkpoints for 24000 into /tmp/tmpx1xjkxsy/model.ckpt.\n",
      "INFO:tensorflow:Loss for final step: 6.67086e+10.\n"
     ]
    },
    {
     "data": {
      "text/plain": [
       "<tensorflow.python.estimator.canned.dnn.DNNRegressor at 0x7f3df0875ac8>"
      ]
     },
     "execution_count": 71,
     "metadata": {},
     "output_type": "execute_result"
    }
   ],
   "source": [
    "model.train(input_fn=input_func,steps=20000)"
   ]
  },
  {
   "cell_type": "markdown",
   "metadata": {},
   "source": [
    "## Creating a predict input function"
   ]
  },
  {
   "cell_type": "code",
   "execution_count": 72,
   "metadata": {},
   "outputs": [],
   "source": [
    "predict_input_func = tf.estimator.inputs.pandas_input_fn(\n",
    "      x=x_test,\n",
    "      batch_size=10,\n",
    "      num_epochs=1,\n",
    "      shuffle=False)"
   ]
  },
  {
   "cell_type": "code",
   "execution_count": 73,
   "metadata": {
    "collapsed": true
   },
   "outputs": [],
   "source": [
    "pred_gen = model.predict(predict_input_func)"
   ]
  },
  {
   "cell_type": "markdown",
   "metadata": {},
   "source": [
    "### A generator object is returned, so we need to cast it to a list."
   ]
  },
  {
   "cell_type": "code",
   "execution_count": 74,
   "metadata": {},
   "outputs": [
    {
     "name": "stdout",
     "output_type": "stream",
     "text": [
      "INFO:tensorflow:Restoring parameters from /tmp/tmpx1xjkxsy/model.ckpt-24000\n"
     ]
    }
   ],
   "source": [
    "predictions = list(pred_gen)"
   ]
  },
  {
   "cell_type": "markdown",
   "metadata": {},
   "source": [
    "## Calculate the Root Mean Squared error"
   ]
  },
  {
   "cell_type": "code",
   "execution_count": 75,
   "metadata": {
    "collapsed": true
   },
   "outputs": [],
   "source": [
    "final_preds = []\n",
    "for pred in predictions:\n",
    "    final_preds.append(pred['predictions'])"
   ]
  },
  {
   "cell_type": "code",
   "execution_count": 76,
   "metadata": {
    "collapsed": true
   },
   "outputs": [],
   "source": [
    "from sklearn.metrics import mean_squared_error"
   ]
  },
  {
   "cell_type": "code",
   "execution_count": 77,
   "metadata": {},
   "outputs": [
    {
     "data": {
      "text/plain": [
       "97837.717568329812"
      ]
     },
     "execution_count": 77,
     "metadata": {},
     "output_type": "execute_result"
    }
   ],
   "source": [
    "mean_squared_error(y_test, final_preds)**0.5"
   ]
  },
  {
   "cell_type": "code",
   "execution_count": null,
   "metadata": {
    "collapsed": true
   },
   "outputs": [],
   "source": []
  },
  {
   "cell_type": "code",
   "execution_count": null,
   "metadata": {
    "collapsed": true
   },
   "outputs": [],
   "source": []
  }
 ],
 "metadata": {
  "kernelspec": {
   "display_name": "Python 3",
   "language": "python",
   "name": "python3"
  },
  "language_info": {
   "codemirror_mode": {
    "name": "ipython",
    "version": 3
   },
   "file_extension": ".py",
   "mimetype": "text/x-python",
   "name": "python",
   "nbconvert_exporter": "python",
   "pygments_lexer": "ipython3",
   "version": "3.6.3"
  }
 },
 "nbformat": 4,
 "nbformat_minor": 2
}
